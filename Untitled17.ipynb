{
 "cells": [
  {
   "cell_type": "code",
   "execution_count": 2,
   "id": "6ed54f2d",
   "metadata": {},
   "outputs": [],
   "source": [
    "import streamlit as st\n",
    "import pandas as pd\n",
    "import snscrape.modules.twitter as sntwitter\n",
    "def scrape_twitter_data(keyword, start_date, end_date, limit):\n",
    "    bujji = f'{keyword} since:{start_date} until:{end_date}'\n",
    "    tweets = []\n",
    "    for tweet in sntwitter.TwitterSearchScraper(bujji).get_items():\n",
    "        if len(tweets) >= limit:\n",
    "            break\n",
    "        tweets.append([tweet.date, tweet.id, tweet.url, tweet.content, tweet.user.username, tweet.replyCount, tweet.retweetCount, tweet.lang, tweet.sourceUrl, tweet.likeCount])\n",
    "    df = pd.DataFrame(tweets, columns=['Datetime', 'Tweet Id', 'URL', 'Content', 'Username', 'Reply Count', 'Retweet Count', 'Language', 'Source', 'Like Count'])\n",
    "    scraped_word = keyword\n",
    "    scraped_date = f'{start_date} to {end_date}'\n",
    "    scraped_data = tweets\n",
    "\n",
    "    document = {\n",
    "        \"Scraped Word\": scraped_word,\n",
    "        \"Scraped Date\": scraped_date,\n",
    "        \"Scraped Data\": scraped_data\n",
    "    }\n",
    "    db[\"twitter_data\"].insert_one(document)\n",
    "\n",
    "    return df\n"
   ]
  }
 ],
 "metadata": {
  "kernelspec": {
   "display_name": "Python 3 (ipykernel)",
   "language": "python",
   "name": "python3"
  },
  "language_info": {
   "codemirror_mode": {
    "name": "ipython",
    "version": 3
   },
   "file_extension": ".py",
   "mimetype": "text/x-python",
   "name": "python",
   "nbconvert_exporter": "python",
   "pygments_lexer": "ipython3",
   "version": "3.9.7"
  }
 },
 "nbformat": 4,
 "nbformat_minor": 5
}
